{
 "cells": [
  {
   "cell_type": "code",
   "execution_count": 8,
   "metadata": {},
   "outputs": [],
   "source": [
    "from scripts.neuron_signal_generator import generate_signal\n",
    "from scripts.noise_and_filtering import generate_electrode_signal\n",
    "from scripts.simulator import simulate_recording\n",
    "\n",
    "from classes.sorter import SpikeSorter\n",
    "import numpy as np\n",
    "# from scripts.spike_extraction import get_waveform_data"
   ]
  },
  {
   "cell_type": "code",
   "execution_count": 2,
   "metadata": {},
   "outputs": [],
   "source": [
    "# generate signal\n",
    "neuron_signal = generate_signal()\n",
    "\n",
    "generate_electrode_signal(\n",
    "    signal=neuron_signal,\n",
    "    decay_type='square',\n",
    "    decay_rate=2,\n",
    "    noise_type='gaussian',\n",
    "    noise_std=0.5,\n",
    "    filter_type='bandpass',\n",
    "    low=500,\n",
    "    high=3000\n",
    ")\n",
    "\n",
    "placements = [2, 0, 0, 0, 0, 0, 0, 0, 2, 0, 0, 0, 1, 0, 0, 0, 0, 0, 0, 0, 0, 0, 2, 0, 0]\n",
    "neuronParams = {\"neuron_type\": \"standard\", \"lambda\": 14, \"v_rest\": -70, \"v_thres\": -10, \"t_ref\": 0.02, \"fix_random_seed\": True}\n",
    "processingParams = {\"decay_type\": \"square\", \"decay_rate\": 2, \"noise_type\": \"gaussian\", \"noise_std\": 0.5, \"filter_type\": \"none\", \"low\": 500, \"high\": 3000}\n",
    "\n",
    "time, filtered_signals = simulate_recording(placements, neuronParams, processingParams)"
   ]
  },
  {
   "cell_type": "code",
   "execution_count": 17,
   "metadata": {},
   "outputs": [],
   "source": [
    "def get_waveform_data(signals, multiplier, waveform_duration):\n",
    "\n",
    "    # intialise the spike sorter\n",
    "    sorter = SpikeSorter(threshold_factor=multiplier, sample_rate=25000, waveform_duration=waveform_duration)\n",
    "\n",
    "    # get the spikes for each recording\n",
    "    spikes = sorter.get_spikes(signals)\n",
    "\n",
    "    # convert the spikes into a numpy array\n",
    "    spike_indices = np.array(spikes)\n",
    "\n",
    "    # neuron spikes is used to determine the true labels of the spike data, so we'll just give an empty array\n",
    "    neuron_spikes = []\n",
    "\n",
    "    #### something not working here\n",
    "\n",
    "    # get the locations of all the spikes detected by all channels, and true spike posititons\n",
    "    merged_spike_indices, true_labels = sorter.merge_spike_indices(spike_indices, neuron_spikes, tolerance=30)\n",
    "\n",
    "    print(merged_spike_indices)\n",
    "\n",
    "    # sorter.show_spikes(signals, [merged_spike_indices] * len(signals), figsize=(8, 8))\n",
    "\n",
    "    # extract the waveform data from each of the identified spikes across all electrodes\n",
    "    waveforms, waveform_info = sorter.get_all_waveforms(\n",
    "        signals, \n",
    "        merged_spike_indices, \n",
    "        recenter=True,\n",
    "        # visualise=True,\n",
    "        labels=true_labels \n",
    "    )\n",
    "\n",
    "    return waveforms, waveform_info\n"
   ]
  },
  {
   "cell_type": "code",
   "execution_count": 24,
   "metadata": {},
   "outputs": [
    {
     "name": "stdout",
     "output_type": "stream",
     "text": [
      "[10121 11082 17000 19890 21985 22946 23907]\n"
     ]
    }
   ],
   "source": [
    "data = {\n",
    "    \"signals\": filtered_signals,\n",
    "    \"extractionParams\": {\n",
    "        \"thresholdMultiplier\": 4,\n",
    "        \"waveformDuration\": 0.3\n",
    "    }\n",
    "}\n",
    "\n",
    "signals = data[\"signals\"]\n",
    "extraction_data = data[\"extractionParams\"]\n",
    "multiplier, waveform_duration = extraction_data[\"thresholdMultiplier\"], extraction_data[\"waveformDuration\"]\n",
    "\n",
    "waveforms, waveform_info = get_waveform_data(signals, multiplier, waveform_duration)\n",
    "\n",
    "waveforms = waveforms.tolist()\n",
    "waveform_info = waveform_info.tolist()"
   ]
  },
  {
   "cell_type": "code",
   "execution_count": 29,
   "metadata": {},
   "outputs": [
    {
     "data": {
      "text/plain": [
       "dict"
      ]
     },
     "execution_count": 29,
     "metadata": {},
     "output_type": "execute_result"
    }
   ],
   "source": [
    "type(waveform_info[0][0])"
   ]
  }
 ],
 "metadata": {
  "kernelspec": {
   "display_name": "Python 3",
   "language": "python",
   "name": "python3"
  },
  "language_info": {
   "codemirror_mode": {
    "name": "ipython",
    "version": 3
   },
   "file_extension": ".py",
   "mimetype": "text/x-python",
   "name": "python",
   "nbconvert_exporter": "python",
   "pygments_lexer": "ipython3",
   "version": "3.9.16"
  },
  "orig_nbformat": 4
 },
 "nbformat": 4,
 "nbformat_minor": 2
}
