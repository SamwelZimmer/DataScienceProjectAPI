{
 "cells": [
  {
   "cell_type": "code",
   "execution_count": 1,
   "metadata": {},
   "outputs": [],
   "source": [
    "from scripts.neuron_signal_generator import generate_signal\n",
    "from scripts.noise_and_filtering import generate_electrode_signal\n",
    "from scripts.simulator import simulate_recording\n",
    "from scripts.reduce import dimensional_reduction\n",
    "from scripts.clustering import get_clusters\n",
    "from scripts.triangulate_neurons import triangulate_neurons\n",
    "\n",
    "from classes.sorter import SpikeSorter\n",
    "import numpy as np\n",
    "import matplotlib.pyplot as plt\n",
    "import pprint\n",
    "\n",
    "# from scripts.spike_extraction import get_waveform_data"
   ]
  },
  {
   "cell_type": "code",
   "execution_count": 2,
   "metadata": {},
   "outputs": [],
   "source": [
    "# generate signal\n",
    "neuron_signal = generate_signal()\n",
    "\n",
    "generate_electrode_signal(\n",
    "    signal=neuron_signal,\n",
    "    decay_type='square',\n",
    "    decay_rate=2,\n",
    "    noise_type='none',\n",
    "    noise_std=0.5,\n",
    "    filter_type='bandpass',\n",
    "    low=500,\n",
    "    high=3000\n",
    ")\n",
    "\n",
    "placements = [0,0,0,0,0,0,0,0,0,2,0,0,0,0,0,0,0,0,0,0,0,0,0,0,0,0,2,0,0,0,1,0,0,0,0,0,0,0,0,0,0,0,0,0,0,0,0,0,0,0,1,0,0,0,0,0,0,0,0,0,0,0,0,0,2,0,0,0,0,0,0,0,0,0,0,0,0,0,2,0,0]\n",
    "neuronParams = {\"neuron_type\": \"standard\", \"lambda\": 14, \"v_rest\": -70, \"v_thres\": -10, \"t_ref\": 0.02, \"fix_random_seed\": True}\n",
    "processingParams = {\"decay_type\": \"square\", \"decay_rate\": 2, \"noise_type\": \"gaussian\", \"noise_std\": 0.5, \"filter_type\": \"none\", \"low\": 500, \"high\": 3000}\n",
    "\n",
    "time, filtered_signals = simulate_recording(placements, neuronParams, processingParams)"
   ]
  },
  {
   "cell_type": "code",
   "execution_count": 3,
   "metadata": {},
   "outputs": [],
   "source": [
    "def get_waveform_data(signals, multiplier, waveform_duration):\n",
    "\n",
    "    # intialise the spike sorter\n",
    "    sorter = SpikeSorter(threshold_factor=multiplier, sample_rate=25000, waveform_duration=waveform_duration)\n",
    "\n",
    "    # get the spikes for each recording\n",
    "    spikes = sorter.get_spikes(signals)\n",
    "\n",
    "    # convert the spikes into a numpy array\n",
    "    spike_indices = np.array(spikes)\n",
    "\n",
    "    # neuron spikes is used to determine the true labels of the spike data, so we'll just give an empty array\n",
    "    neuron_spikes = []\n",
    "\n",
    "    #### something not working here\n",
    "\n",
    "    # get the locations of all the spikes detected by all channels, and true spike posititons\n",
    "    merged_spike_indices, true_labels = sorter.merge_spike_indices(spike_indices, neuron_spikes, tolerance=30)\n",
    "\n",
    "    # extract the waveform data from each of the identified spikes across all electrodes\n",
    "    waveforms, waveform_info = sorter.get_all_waveforms(\n",
    "        signals, \n",
    "        merged_spike_indices, \n",
    "        recenter=True,\n",
    "        # visualise=True,\n",
    "        labels=true_labels \n",
    "    )\n",
    "\n",
    "    return waveforms, waveform_info"
   ]
  },
  {
   "cell_type": "code",
   "execution_count": 14,
   "metadata": {},
   "outputs": [
    {
     "name": "stderr",
     "output_type": "stream",
     "text": [
      "/var/folders/ct/68fpdtpx6lq75x8hr444s83h0000gn/T/ipykernel_14659/192200648.py:10: VisibleDeprecationWarning: Creating an ndarray from ragged nested sequences (which is a list-or-tuple of lists-or-tuples-or ndarrays with different lengths or shapes) is deprecated. If you meant to do this, you must specify 'dtype=object' when creating the ndarray.\n",
      "  spike_indices = np.array(spikes)\n"
     ]
    }
   ],
   "source": [
    "data = {\n",
    "    \"signals\": filtered_signals,\n",
    "    \"extractionParams\": {\n",
    "        \"thresholdMultiplier\": 4,\n",
    "        \"waveformDuration\": 0.3\n",
    "    }\n",
    "}\n",
    "\n",
    "signals = data[\"signals\"]\n",
    "extraction_data = data[\"extractionParams\"]\n",
    "multiplier, waveform_duration = extraction_data[\"thresholdMultiplier\"], extraction_data[\"waveformDuration\"]\n",
    "\n",
    "waveforms, waveform_info = get_waveform_data(signals, multiplier, waveform_duration)\n",
    "\n",
    "waveforms = waveforms.tolist()\n",
    "waveform_info = waveform_info.tolist()"
   ]
  },
  {
   "cell_type": "code",
   "execution_count": 15,
   "metadata": {},
   "outputs": [],
   "source": [
    "model = \"pca\"\n",
    "n_components = 3\n",
    "\n",
    "reduced_data = dimensional_reduction(model=model, n_components=n_components, waveforms=waveforms)"
   ]
  },
  {
   "cell_type": "code",
   "execution_count": 16,
   "metadata": {},
   "outputs": [],
   "source": [
    "cluster_type, k_type, k = 'gmm', 'manual', 2\n",
    "\n",
    "labels = get_clusters(cluster_type, k_type, k, reduced_data)"
   ]
  },
  {
   "cell_type": "code",
   "execution_count": 20,
   "metadata": {},
   "outputs": [
    {
     "name": "stdout",
     "output_type": "stream",
     "text": [
      "ModeResult(mode=array([-16.9009408]), count=array([1]))\n",
      "-16.900940796131067\n",
      "ModeResult(mode=array([-16.00244474]), count=array([1]))\n",
      "-16.002444737629787\n",
      "ModeResult(mode=array([-17.15931598]), count=array([1]))\n",
      "-17.159315983836535\n",
      "ModeResult(mode=array([-20.9938797]), count=array([1]))\n",
      "-20.993879702330172\n"
     ]
    },
    {
     "name": "stderr",
     "output_type": "stream",
     "text": [
      "/Users/samharris/DataProjects/learnVectorDB/backend/scripts/triangulate_neurons.py:72: FutureWarning: Unlike other reduction functions (e.g. `skew`, `kurtosis`), the default behavior of `mode` typically preserves the axis it acts along. In SciPy 1.11.0, this behavior will change: the default value of `keepdims` will become False, the `axis` over which the statistic is taken will be eliminated, and the value None will no longer be accepted. Set `keepdims` to True or False to avoid this warning.\n",
      "  mode_result = mode(electrode_dict[i][\"signal\"])\n"
     ]
    }
   ],
   "source": [
    "construction_dict = triangulate_neurons(signals=signals, placements=placements, labels=labels, waveforms=waveforms, decay_type=processingParams[\"decay_type\"])"
   ]
  },
  {
   "cell_type": "code",
   "execution_count": 18,
   "metadata": {},
   "outputs": [
    {
     "data": {
      "text/plain": [
       "{'true_neuron_positions': [(3, 3), (5, 5)],\n",
       " 'all_electrode_positions': [(1, 0), (2, 8), (7, 1), (8, 6)],\n",
       " 'predicted_neuron_positions': [(3.295159042993193, 3.201920376263164),\n",
       "  (4.55243793705298, 4.435590712802648)],\n",
       " 0: {'true_neuron_position': (3, 3),\n",
       "  'predicted_neuron_position': (3.295159042993193, 3.201920376263164),\n",
       "  'circles': [((1, 0), 2.790323401526936), ((1, 0), 3.4618741951023213)],\n",
       "  'used_electrodes': [0, 2, 1],\n",
       "  'intersecting_lines': [(-6.0, 22.972874634222322),\n",
       "   (-0.125, 3.613815256637312)]},\n",
       " 1: {'true_neuron_position': (5, 5),\n",
       "  'predicted_neuron_position': (4.55243793705298, 4.435590712802648),\n",
       "  'circles': [((8, 6), 2.7759348940839996), ((8, 6), 2.2101520633313303)],\n",
       "  'used_electrodes': [3, 1, 2],\n",
       "  'intersecting_lines': [(3.0, -9.221723098356293),\n",
       "   (-0.2, 5.3460783002132475)]}}"
      ]
     },
     "execution_count": 18,
     "metadata": {},
     "output_type": "execute_result"
    }
   ],
   "source": [
    "construction_dict"
   ]
  },
  {
   "cell_type": "code",
   "execution_count": 22,
   "metadata": {},
   "outputs": [
    {
     "name": "stdout",
     "output_type": "stream",
     "text": [
      "waveforms <class 'list'> 4 16 7 <class 'float'>\n",
      "signals <class 'list'> 4 25000 <class 'float'>\n",
      "labels <class 'list'> 16 <class 'int'>\n",
      "placements <class 'list'> 81 <class 'int'>\n"
     ]
    }
   ],
   "source": [
    "print(\"waveforms\", type(waveforms), len(waveforms), len(waveforms[0]), len(waveforms[0][0]), type(waveforms[0][0][0]))\n",
    "print(\"signals\", type(filtered_signals), len(filtered_signals), len(filtered_signals[0]), type(filtered_signals[0][0]))\n",
    "print(\"labels\", type(labels), len(labels), type(labels[0]))\n",
    "print(\"placements\", type(placements), len(placements), type(placements[0]))"
   ]
  }
 ],
 "metadata": {
  "kernelspec": {
   "display_name": "Python 3",
   "language": "python",
   "name": "python3"
  },
  "language_info": {
   "codemirror_mode": {
    "name": "ipython",
    "version": 3
   },
   "file_extension": ".py",
   "mimetype": "text/x-python",
   "name": "python",
   "nbconvert_exporter": "python",
   "pygments_lexer": "ipython3",
   "version": "3.9.16"
  },
  "orig_nbformat": 4
 },
 "nbformat": 4,
 "nbformat_minor": 2
}
